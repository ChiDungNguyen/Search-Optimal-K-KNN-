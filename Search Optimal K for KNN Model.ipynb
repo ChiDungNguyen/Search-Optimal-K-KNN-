{
 "cells": [
  {
   "cell_type": "markdown",
   "metadata": {},
   "source": [
    "# Turning Parameters for Machine Learning Models (Part 1: KNN) "
   ]
  },
  {
   "cell_type": "code",
   "execution_count": 1,
   "metadata": {},
   "outputs": [],
   "source": [
    "# Import pandas and load data downloaded from https://www.kaggle.com/uciml/pima-indians-diabetes-database#diabetes.csv: \n",
    "import pandas as pd\n",
    "d = pd.read_csv(\"/home/chidung/Desktop/python_learning/pima/diabetes.csv\")"
   ]
  },
  {
   "cell_type": "code",
   "execution_count": 2,
   "metadata": {},
   "outputs": [
    {
     "data": {
      "text/html": [
       "<div>\n",
       "<style scoped>\n",
       "    .dataframe tbody tr th:only-of-type {\n",
       "        vertical-align: middle;\n",
       "    }\n",
       "\n",
       "    .dataframe tbody tr th {\n",
       "        vertical-align: top;\n",
       "    }\n",
       "\n",
       "    .dataframe thead th {\n",
       "        text-align: right;\n",
       "    }\n",
       "</style>\n",
       "<table border=\"1\" class=\"dataframe\">\n",
       "  <thead>\n",
       "    <tr style=\"text-align: right;\">\n",
       "      <th></th>\n",
       "      <th>Pregnancies</th>\n",
       "      <th>Glucose</th>\n",
       "      <th>BloodPressure</th>\n",
       "      <th>SkinThickness</th>\n",
       "      <th>Insulin</th>\n",
       "      <th>BMI</th>\n",
       "      <th>DiabetesPedigreeFunction</th>\n",
       "      <th>Age</th>\n",
       "      <th>Outcome</th>\n",
       "    </tr>\n",
       "  </thead>\n",
       "  <tbody>\n",
       "    <tr>\n",
       "      <th>0</th>\n",
       "      <td>6</td>\n",
       "      <td>148</td>\n",
       "      <td>72</td>\n",
       "      <td>35</td>\n",
       "      <td>0</td>\n",
       "      <td>33.6</td>\n",
       "      <td>0.627</td>\n",
       "      <td>50</td>\n",
       "      <td>1</td>\n",
       "    </tr>\n",
       "    <tr>\n",
       "      <th>1</th>\n",
       "      <td>1</td>\n",
       "      <td>85</td>\n",
       "      <td>66</td>\n",
       "      <td>29</td>\n",
       "      <td>0</td>\n",
       "      <td>26.6</td>\n",
       "      <td>0.351</td>\n",
       "      <td>31</td>\n",
       "      <td>0</td>\n",
       "    </tr>\n",
       "    <tr>\n",
       "      <th>2</th>\n",
       "      <td>8</td>\n",
       "      <td>183</td>\n",
       "      <td>64</td>\n",
       "      <td>0</td>\n",
       "      <td>0</td>\n",
       "      <td>23.3</td>\n",
       "      <td>0.672</td>\n",
       "      <td>32</td>\n",
       "      <td>1</td>\n",
       "    </tr>\n",
       "    <tr>\n",
       "      <th>3</th>\n",
       "      <td>1</td>\n",
       "      <td>89</td>\n",
       "      <td>66</td>\n",
       "      <td>23</td>\n",
       "      <td>94</td>\n",
       "      <td>28.1</td>\n",
       "      <td>0.167</td>\n",
       "      <td>21</td>\n",
       "      <td>0</td>\n",
       "    </tr>\n",
       "    <tr>\n",
       "      <th>4</th>\n",
       "      <td>0</td>\n",
       "      <td>137</td>\n",
       "      <td>40</td>\n",
       "      <td>35</td>\n",
       "      <td>168</td>\n",
       "      <td>43.1</td>\n",
       "      <td>2.288</td>\n",
       "      <td>33</td>\n",
       "      <td>1</td>\n",
       "    </tr>\n",
       "  </tbody>\n",
       "</table>\n",
       "</div>"
      ],
      "text/plain": [
       "   Pregnancies  Glucose  BloodPressure  SkinThickness  Insulin   BMI  \\\n",
       "0            6      148             72             35        0  33.6   \n",
       "1            1       85             66             29        0  26.6   \n",
       "2            8      183             64              0        0  23.3   \n",
       "3            1       89             66             23       94  28.1   \n",
       "4            0      137             40             35      168  43.1   \n",
       "\n",
       "   DiabetesPedigreeFunction  Age  Outcome  \n",
       "0                     0.627   50        1  \n",
       "1                     0.351   31        0  \n",
       "2                     0.672   32        1  \n",
       "3                     0.167   21        0  \n",
       "4                     2.288   33        1  "
      ]
     },
     "execution_count": 2,
     "metadata": {},
     "output_type": "execute_result"
    }
   ],
   "source": [
    "# Inspect our data: \n",
    "d.head()"
   ]
  },
  {
   "cell_type": "code",
   "execution_count": 3,
   "metadata": {},
   "outputs": [],
   "source": [
    "# Drop Pregnancies and Outcome column: \n",
    "d1 = d.drop([\"Pregnancies\", \"Outcome\"], axis = 1)"
   ]
  },
  {
   "cell_type": "code",
   "execution_count": 4,
   "metadata": {},
   "outputs": [],
   "source": [
    "\n",
    "# Convert zeros to NA values: \n",
    "import numpy as np\n",
    "d1 = d1.replace(0, np.nan)"
   ]
  },
  {
   "cell_type": "code",
   "execution_count": 5,
   "metadata": {},
   "outputs": [],
   "source": [
    "# Replace NA values by mean: \n",
    "d1 = d1.fillna(d1.mean())"
   ]
  },
  {
   "cell_type": "code",
   "execution_count": 6,
   "metadata": {},
   "outputs": [],
   "source": [
    "# Add Pregnancies column: \n",
    "df = d1.assign(Pregnancies = d[\"Pregnancies\"])"
   ]
  },
  {
   "cell_type": "code",
   "execution_count": 7,
   "metadata": {},
   "outputs": [],
   "source": [
    "# Write a function for normalizing 0 - 1 data: \n",
    "def normalize_01(data):\n",
    "    nho_nhat = data.min()\n",
    "    lon_nhat = data.max(0)\n",
    "    scaled = (data - nho_nhat) / (lon_nhat - nho_nhat)\n",
    "    return scaled"
   ]
  },
  {
   "cell_type": "code",
   "execution_count": 8,
   "metadata": {},
   "outputs": [],
   "source": [
    "# Apply this function for our data: \n",
    "df = df[[\"Pregnancies\", \"Glucose\", \"BloodPressure\", \"SkinThickness\", \n",
    "        \"Insulin\", \"BMI\", \"DiabetesPedigreeFunction\", \"Age\"]].apply(normalize_01)"
   ]
  },
  {
   "cell_type": "code",
   "execution_count": 9,
   "metadata": {},
   "outputs": [],
   "source": [
    "# Add Outcome column: \n",
    "df = df.assign(Outcome = d[\"Outcome\"])"
   ]
  },
  {
   "cell_type": "code",
   "execution_count": 10,
   "metadata": {},
   "outputs": [
    {
     "data": {
      "text/html": [
       "<div>\n",
       "<style scoped>\n",
       "    .dataframe tbody tr th:only-of-type {\n",
       "        vertical-align: middle;\n",
       "    }\n",
       "\n",
       "    .dataframe tbody tr th {\n",
       "        vertical-align: top;\n",
       "    }\n",
       "\n",
       "    .dataframe thead th {\n",
       "        text-align: right;\n",
       "    }\n",
       "</style>\n",
       "<table border=\"1\" class=\"dataframe\">\n",
       "  <thead>\n",
       "    <tr style=\"text-align: right;\">\n",
       "      <th></th>\n",
       "      <th>Pregnancies</th>\n",
       "      <th>Glucose</th>\n",
       "      <th>BloodPressure</th>\n",
       "      <th>SkinThickness</th>\n",
       "      <th>Insulin</th>\n",
       "      <th>BMI</th>\n",
       "      <th>DiabetesPedigreeFunction</th>\n",
       "      <th>Age</th>\n",
       "      <th>Outcome</th>\n",
       "    </tr>\n",
       "  </thead>\n",
       "  <tbody>\n",
       "    <tr>\n",
       "      <th>0</th>\n",
       "      <td>0.352941</td>\n",
       "      <td>0.670968</td>\n",
       "      <td>0.489796</td>\n",
       "      <td>0.304348</td>\n",
       "      <td>0.170130</td>\n",
       "      <td>0.314928</td>\n",
       "      <td>0.234415</td>\n",
       "      <td>0.483333</td>\n",
       "      <td>1</td>\n",
       "    </tr>\n",
       "    <tr>\n",
       "      <th>1</th>\n",
       "      <td>0.058824</td>\n",
       "      <td>0.264516</td>\n",
       "      <td>0.428571</td>\n",
       "      <td>0.239130</td>\n",
       "      <td>0.170130</td>\n",
       "      <td>0.171779</td>\n",
       "      <td>0.116567</td>\n",
       "      <td>0.166667</td>\n",
       "      <td>0</td>\n",
       "    </tr>\n",
       "    <tr>\n",
       "      <th>2</th>\n",
       "      <td>0.470588</td>\n",
       "      <td>0.896774</td>\n",
       "      <td>0.408163</td>\n",
       "      <td>0.240798</td>\n",
       "      <td>0.170130</td>\n",
       "      <td>0.104294</td>\n",
       "      <td>0.253629</td>\n",
       "      <td>0.183333</td>\n",
       "      <td>1</td>\n",
       "    </tr>\n",
       "    <tr>\n",
       "      <th>3</th>\n",
       "      <td>0.058824</td>\n",
       "      <td>0.290323</td>\n",
       "      <td>0.428571</td>\n",
       "      <td>0.173913</td>\n",
       "      <td>0.096154</td>\n",
       "      <td>0.202454</td>\n",
       "      <td>0.038002</td>\n",
       "      <td>0.000000</td>\n",
       "      <td>0</td>\n",
       "    </tr>\n",
       "    <tr>\n",
       "      <th>4</th>\n",
       "      <td>0.000000</td>\n",
       "      <td>0.600000</td>\n",
       "      <td>0.163265</td>\n",
       "      <td>0.304348</td>\n",
       "      <td>0.185096</td>\n",
       "      <td>0.509202</td>\n",
       "      <td>0.943638</td>\n",
       "      <td>0.200000</td>\n",
       "      <td>1</td>\n",
       "    </tr>\n",
       "  </tbody>\n",
       "</table>\n",
       "</div>"
      ],
      "text/plain": [
       "   Pregnancies   Glucose  BloodPressure  SkinThickness   Insulin       BMI  \\\n",
       "0     0.352941  0.670968       0.489796       0.304348  0.170130  0.314928   \n",
       "1     0.058824  0.264516       0.428571       0.239130  0.170130  0.171779   \n",
       "2     0.470588  0.896774       0.408163       0.240798  0.170130  0.104294   \n",
       "3     0.058824  0.290323       0.428571       0.173913  0.096154  0.202454   \n",
       "4     0.000000  0.600000       0.163265       0.304348  0.185096  0.509202   \n",
       "\n",
       "   DiabetesPedigreeFunction       Age  Outcome  \n",
       "0                  0.234415  0.483333        1  \n",
       "1                  0.116567  0.166667        0  \n",
       "2                  0.253629  0.183333        1  \n",
       "3                  0.038002  0.000000        0  \n",
       "4                  0.943638  0.200000        1  "
      ]
     },
     "execution_count": 10,
     "metadata": {},
     "output_type": "execute_result"
    }
   ],
   "source": [
    "# Inspect our data again: \n",
    "df.head()"
   ]
  },
  {
   "cell_type": "code",
   "execution_count": 11,
   "metadata": {},
   "outputs": [],
   "source": [
    "#====================================================================\n",
    "#  Search Optimal K by using cross_val_score() function (method 1)\n",
    "#====================================================================\n",
    "\n",
    "# Import function for spliting data: \n",
    "from sklearn.model_selection import train_test_split\n",
    "\n",
    "# Split our data: \n",
    "train, test = train_test_split(df, \n",
    "                               # Use 80% data for training KNN: \n",
    "                               test_size = 0.3, \n",
    "                               # For reproducing results: \n",
    "                               random_state = 0, \n",
    "                               stratify = df[\"Outcome\"])\n",
    "\n",
    "X_train = train[train.columns[0:8]]\n",
    "y_train = train[train.columns[-1]]\n",
    "\n",
    "X_test = test[test.columns[0:8]]\n",
    "y_test = test[test.columns[-1]]\n",
    "\n",
    "X = df[df.columns[0:8]]\n",
    "Y = df[\"Outcome\"]\n",
    "\n",
    "# Set a range of K for evaluating KNN model: \n",
    "so_lang_gieng = np.array([1, 3, 5, 7])\n",
    "cv_scores_test = []\n",
    "cv_scores_train = []\n",
    "\n",
    "# Import KNeighborsClassifier() function for using KNN: \n",
    "from sklearn.neighbors import KNeighborsClassifier\n",
    "\n",
    "# Train KNN with 10-fold cross validation and use 20 CPU cores:  \n",
    "from sklearn.model_selection import cross_val_score\n",
    "for i in so_lang_gieng:\n",
    "    knn = KNeighborsClassifier(n_neighbors = i)\n",
    "    \n",
    "    # Accuracy for train data: \n",
    "    scores1 = cross_val_score(knn, X_train, y_train, cv = 10, scoring = \"accuracy\", n_jobs = 20)\n",
    "    cv_scores_train.append(scores1.mean())\n",
    "    \n",
    "    # Accuracy for test data: \n",
    "    scores2 = cross_val_score(knn, X_test, y_test, cv = 10, scoring = \"accuracy\", n_jobs = 20)\n",
    "    cv_scores_test.append(scores2.mean())"
   ]
  },
  {
   "cell_type": "code",
   "execution_count": 12,
   "metadata": {},
   "outputs": [
    {
     "data": {
      "text/plain": [
       "Text(0.5,1,'Optimal K based on 10-fold cross validation')"
      ]
     },
     "execution_count": 12,
     "metadata": {},
     "output_type": "execute_result"
    },
    {
     "data": {
      "image/png": "[encoded data removed]",
      "text/plain": [
       "<Figure size 648x432 with 1 Axes>"
      ]
     },
     "metadata": {},
     "output_type": "display_data"
    }
   ],
   "source": [
    "# Visualize our results: \n",
    "\n",
    "%matplotlib inline\n",
    "import matplotlib.pyplot as plt\n",
    "plt.style.use(\"fivethirtyeight\")\n",
    "plt.figure(figsize = (9, 6))\n",
    "\n",
    "plt.plot(so_lang_gieng, cv_scores_test, label = \"Accuracy for test\")\n",
    "plt.plot(so_lang_gieng, cv_scores_train, label = \"Accuracy for train\")\n",
    "plt.ylabel(\"Accuracy\", fontsize = 14)\n",
    "plt.xlabel(\"Number of Nearest Neighbors\", fontsize = 14)\n",
    "plt.title(\"Optimal K based on 10-fold cross validation\", fontsize = 22)"
   ]
  },
  {
   "cell_type": "code",
   "execution_count": 13,
   "metadata": {},
   "outputs": [
    {
     "name": "stderr",
     "output_type": "stream",
     "text": [
      "/home/chidung/anaconda3/lib/python3.6/site-packages/sklearn/cross_validation.py:41: DeprecationWarning: This module was deprecated in version 0.18 in favor of the model_selection module into which all the refactored classes and functions are moved. Also note that the interface of the new CV iterators are different from that of this module. This module will be removed in 0.20.\n",
      "  \"This module will be removed in 0.20.\", DeprecationWarning)\n",
      "/home/chidung/anaconda3/lib/python3.6/site-packages/sklearn/grid_search.py:42: DeprecationWarning: This module was deprecated in version 0.18 in favor of the model_selection module into which all the refactored classes and functions are moved. This module will be removed in 0.20.\n",
      "  DeprecationWarning)\n"
     ]
    },
    {
     "data": {
      "text/plain": [
       "[mean: 0.68490, std: 0.04113, params: {'n_neighbors': 1},\n",
       " mean: 0.73307, std: 0.04665, params: {'n_neighbors': 3},\n",
       " mean: 0.75260, std: 0.05535, params: {'n_neighbors': 5},\n",
       " mean: 0.75391, std: 0.05474, params: {'n_neighbors': 7}]"
      ]
     },
     "execution_count": 13,
     "metadata": {},
     "output_type": "execute_result"
    }
   ],
   "source": [
    "#====================================================================\n",
    "#  Search Optimal K by using GridSearchCV() function (method 2)\n",
    "#====================================================================\n",
    "\n",
    "# Set conditions for grid search: \n",
    "param_grid = dict(n_neighbors = so_lang_gieng)\n",
    "\n",
    "from sklearn.grid_search import GridSearchCV\n",
    "grid = GridSearchCV(knn, param_grid, cv = 10, scoring = \"accuracy\")\n",
    "\n",
    "# Fit the grid with our data: \n",
    "grid.fit(X, Y)\n",
    "\n",
    "# Print results: \n",
    "grid.grid_scores_"
   ]
  },
  {
   "cell_type": "code",
   "execution_count": 14,
   "metadata": {},
   "outputs": [
    {
     "data": {
      "text/plain": [
       "Text(0.5,1,'Optimal K based on 10-fold cross validation')"
      ]
     },
     "execution_count": 14,
     "metadata": {},
     "output_type": "execute_result"
    },
    {
     "data": {
      "image/png": "[encoded data removed]",
      "text/plain": [
       "<Figure size 648x432 with 1 Axes>"
      ]
     },
     "metadata": {},
     "output_type": "display_data"
    }
   ],
   "source": [
    "# list comprehension to loop through grid.grid_scores and plot: \n",
    "grid_mean_scores = [result.mean_validation_score for result in grid.grid_scores_]\n",
    "\n",
    "plt.figure(figsize = (9, 6))\n",
    "plt.plot(so_lang_gieng, grid_mean_scores)\n",
    "plt.ylabel(\"Accuracy\", fontsize = 14)\n",
    "plt.xlabel(\"Number of Nearest Neighbors\", fontsize = 14)\n",
    "plt.title(\"Optimal K based on 10-fold cross validation\", fontsize = 22)"
   ]
  },
  {
   "cell_type": "code",
   "execution_count": 15,
   "metadata": {},
   "outputs": [
    {
     "data": {
      "text/plain": [
       "{'n_neighbors': 7}"
      ]
     },
     "execution_count": 15,
     "metadata": {},
     "output_type": "execute_result"
    }
   ],
   "source": [
    "# Show the optimal K: \n",
    "grid.best_params_"
   ]
  },
  {
   "cell_type": "code",
   "execution_count": 16,
   "metadata": {},
   "outputs": [
    {
     "data": {
      "text/plain": [
       "0.75390625"
      ]
     },
     "execution_count": 16,
     "metadata": {},
     "output_type": "execute_result"
    }
   ],
   "source": [
    "# Show average accuracy rate (10-fold cross validation): \n",
    "grid.best_score_"
   ]
  },
  {
   "cell_type": "code",
   "execution_count": 17,
   "metadata": {},
   "outputs": [
    {
     "data": {
      "text/plain": [
       "KNeighborsClassifier(algorithm='auto', leaf_size=30, metric='minkowski',\n",
       "           metric_params=None, n_jobs=1, n_neighbors=7, p=2,\n",
       "           weights='uniform')"
      ]
     },
     "execution_count": 17,
     "metadata": {},
     "output_type": "execute_result"
    }
   ],
   "source": [
    "# Show all information about the best KNN: \n",
    "grid.best_estimator_"
   ]
  },
  {
   "cell_type": "markdown",
   "metadata": {},
   "source": [
    "### To be continued..."
   ]
  },
  {
   "cell_type": "code",
   "execution_count": null,
   "metadata": {},
   "outputs": [],
   "source": []
  }
 ],
 "metadata": {
  "kernelspec": {
   "display_name": "Python 3",
   "language": "python",
   "name": "python3"
  },
  "language_info": {
   "codemirror_mode": {
    "name": "ipython",
    "version": 3
   },
   "file_extension": ".py",
   "mimetype": "text/x-python",
   "name": "python",
   "nbconvert_exporter": "python",
   "pygments_lexer": "ipython3",
   "version": "3.6.5"
  }
 },
 "nbformat": 4,
 "nbformat_minor": 2
}
